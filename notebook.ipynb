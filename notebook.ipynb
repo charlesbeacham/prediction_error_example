{
 "cells": [
  {
   "cell_type": "code",
   "execution_count": 2,
   "metadata": {},
   "outputs": [
    {
     "name": "stdout",
     "output_type": "stream",
     "text": [
      "<class 'pandas.core.frame.DataFrame'>\n",
      "RangeIndex: 442 entries, 0 to 441\n",
      "Data columns (total 11 columns):\n",
      " #   Column  Non-Null Count  Dtype  \n",
      "---  ------  --------------  -----  \n",
      " 0   age     442 non-null    float64\n",
      " 1   sex     442 non-null    float64\n",
      " 2   bmi     442 non-null    float64\n",
      " 3   bp      442 non-null    float64\n",
      " 4   s1      442 non-null    float64\n",
      " 5   s2      442 non-null    float64\n",
      " 6   s3      442 non-null    float64\n",
      " 7   s4      442 non-null    float64\n",
      " 8   s5      442 non-null    float64\n",
      " 9   s6      442 non-null    float64\n",
      " 10  target  442 non-null    float64\n",
      "dtypes: float64(11)\n",
      "memory usage: 38.1 KB\n"
     ]
    }
   ],
   "source": [
    "import numpy as np\n",
    "\n",
    "np.set_printoptions(formatter={\"float\": lambda x: \"{:.4f}\".format(x)})\n",
    "import pandas as pd\n",
    "\n",
    "pd.options.display.float_format = \"{:.4f}\".format\n",
    "from scipy.stats import t\n",
    "import statsmodels.api as sm\n",
    "from sklearn.datasets import load_diabetes\n",
    "from sklearn.model_selection import train_test_split\n",
    "from sklearn.linear_model import LinearRegression\n",
    "from sklearn.ensemble import GradientBoostingClassifier\n",
    "\n",
    "import matplotlib.pyplot as plt\n",
    "import seaborn as sns\n",
    "\n",
    "sns.set_theme(style=\"darkgrid\", context=\"talk\")\n",
    "\n",
    "diabetes = load_diabetes(as_frame=True)\n",
    "df = diabetes[\"data\"]\n",
    "df[\"target\"] = diabetes[\"target\"]\n",
    "df.info()\n",
    "# print(diabetes['DESCR'])"
   ]
  },
  {
   "cell_type": "code",
   "execution_count": 4,
   "metadata": {},
   "outputs": [
    {
     "data": {
      "text/html": [
       "<div>\n",
       "<style scoped>\n",
       "    .dataframe tbody tr th:only-of-type {\n",
       "        vertical-align: middle;\n",
       "    }\n",
       "\n",
       "    .dataframe tbody tr th {\n",
       "        vertical-align: top;\n",
       "    }\n",
       "\n",
       "    .dataframe thead th {\n",
       "        text-align: right;\n",
       "    }\n",
       "</style>\n",
       "<table border=\"1\" class=\"dataframe\">\n",
       "  <thead>\n",
       "    <tr style=\"text-align: right;\">\n",
       "      <th></th>\n",
       "      <th>age</th>\n",
       "      <th>sex</th>\n",
       "      <th>bmi</th>\n",
       "      <th>bp</th>\n",
       "      <th>s1</th>\n",
       "      <th>s2</th>\n",
       "      <th>s3</th>\n",
       "      <th>s4</th>\n",
       "      <th>s5</th>\n",
       "      <th>s6</th>\n",
       "      <th>target</th>\n",
       "    </tr>\n",
       "  </thead>\n",
       "  <tbody>\n",
       "    <tr>\n",
       "      <th>0</th>\n",
       "      <td>0.0381</td>\n",
       "      <td>0.0507</td>\n",
       "      <td>0.0617</td>\n",
       "      <td>0.0219</td>\n",
       "      <td>-0.0442</td>\n",
       "      <td>-0.0348</td>\n",
       "      <td>-0.0434</td>\n",
       "      <td>-0.0026</td>\n",
       "      <td>0.0199</td>\n",
       "      <td>-0.0176</td>\n",
       "      <td>151.0000</td>\n",
       "    </tr>\n",
       "    <tr>\n",
       "      <th>1</th>\n",
       "      <td>-0.0019</td>\n",
       "      <td>-0.0446</td>\n",
       "      <td>-0.0515</td>\n",
       "      <td>-0.0263</td>\n",
       "      <td>-0.0084</td>\n",
       "      <td>-0.0192</td>\n",
       "      <td>0.0744</td>\n",
       "      <td>-0.0395</td>\n",
       "      <td>-0.0683</td>\n",
       "      <td>-0.0922</td>\n",
       "      <td>75.0000</td>\n",
       "    </tr>\n",
       "    <tr>\n",
       "      <th>2</th>\n",
       "      <td>0.0853</td>\n",
       "      <td>0.0507</td>\n",
       "      <td>0.0445</td>\n",
       "      <td>-0.0057</td>\n",
       "      <td>-0.0456</td>\n",
       "      <td>-0.0342</td>\n",
       "      <td>-0.0324</td>\n",
       "      <td>-0.0026</td>\n",
       "      <td>0.0029</td>\n",
       "      <td>-0.0259</td>\n",
       "      <td>141.0000</td>\n",
       "    </tr>\n",
       "    <tr>\n",
       "      <th>3</th>\n",
       "      <td>-0.0891</td>\n",
       "      <td>-0.0446</td>\n",
       "      <td>-0.0116</td>\n",
       "      <td>-0.0367</td>\n",
       "      <td>0.0122</td>\n",
       "      <td>0.0250</td>\n",
       "      <td>-0.0360</td>\n",
       "      <td>0.0343</td>\n",
       "      <td>0.0227</td>\n",
       "      <td>-0.0094</td>\n",
       "      <td>206.0000</td>\n",
       "    </tr>\n",
       "    <tr>\n",
       "      <th>4</th>\n",
       "      <td>0.0054</td>\n",
       "      <td>-0.0446</td>\n",
       "      <td>-0.0364</td>\n",
       "      <td>0.0219</td>\n",
       "      <td>0.0039</td>\n",
       "      <td>0.0156</td>\n",
       "      <td>0.0081</td>\n",
       "      <td>-0.0026</td>\n",
       "      <td>-0.0320</td>\n",
       "      <td>-0.0466</td>\n",
       "      <td>135.0000</td>\n",
       "    </tr>\n",
       "  </tbody>\n",
       "</table>\n",
       "</div>"
      ],
      "text/plain": [
       "      age     sex     bmi      bp      s1      s2      s3      s4      s5  \\\n",
       "0  0.0381  0.0507  0.0617  0.0219 -0.0442 -0.0348 -0.0434 -0.0026  0.0199   \n",
       "1 -0.0019 -0.0446 -0.0515 -0.0263 -0.0084 -0.0192  0.0744 -0.0395 -0.0683   \n",
       "2  0.0853  0.0507  0.0445 -0.0057 -0.0456 -0.0342 -0.0324 -0.0026  0.0029   \n",
       "3 -0.0891 -0.0446 -0.0116 -0.0367  0.0122  0.0250 -0.0360  0.0343  0.0227   \n",
       "4  0.0054 -0.0446 -0.0364  0.0219  0.0039  0.0156  0.0081 -0.0026 -0.0320   \n",
       "\n",
       "       s6   target  \n",
       "0 -0.0176 151.0000  \n",
       "1 -0.0922  75.0000  \n",
       "2 -0.0259 141.0000  \n",
       "3 -0.0094 206.0000  \n",
       "4 -0.0466 135.0000  "
      ]
     },
     "execution_count": 4,
     "metadata": {},
     "output_type": "execute_result"
    }
   ],
   "source": [
    "df.head()"
   ]
  },
  {
   "cell_type": "markdown",
   "metadata": {},
   "source": [
    "Let’s partition the data into training and test sets:"
   ]
  },
  {
   "cell_type": "code",
   "execution_count": 9,
   "metadata": {},
   "outputs": [
    {
     "name": "stdout",
     "output_type": "stream",
     "text": [
      "X_train shape: (397, 10)\n",
      "x_train shape: (397,)\n",
      "y_train shape: (397,)\n",
      "\n",
      "==============Training data ============\n"
     ]
    },
    {
     "data": {
      "text/html": [
       "<div>\n",
       "<style scoped>\n",
       "    .dataframe tbody tr th:only-of-type {\n",
       "        vertical-align: middle;\n",
       "    }\n",
       "\n",
       "    .dataframe tbody tr th {\n",
       "        vertical-align: top;\n",
       "    }\n",
       "\n",
       "    .dataframe thead th {\n",
       "        text-align: right;\n",
       "    }\n",
       "</style>\n",
       "<table border=\"1\" class=\"dataframe\">\n",
       "  <thead>\n",
       "    <tr style=\"text-align: right;\">\n",
       "      <th></th>\n",
       "      <th>count</th>\n",
       "      <th>mean</th>\n",
       "      <th>std</th>\n",
       "      <th>min</th>\n",
       "      <th>25%</th>\n",
       "      <th>50%</th>\n",
       "      <th>75%</th>\n",
       "      <th>max</th>\n",
       "    </tr>\n",
       "  </thead>\n",
       "  <tbody>\n",
       "    <tr>\n",
       "      <th>target</th>\n",
       "      <td>397.0000</td>\n",
       "      <td>152.0101</td>\n",
       "      <td>76.9640</td>\n",
       "      <td>25.0000</td>\n",
       "      <td>86.0000</td>\n",
       "      <td>141.0000</td>\n",
       "      <td>209.0000</td>\n",
       "      <td>346.0000</td>\n",
       "    </tr>\n",
       "  </tbody>\n",
       "</table>\n",
       "</div>"
      ],
      "text/plain": [
       "          count     mean     std     min     25%      50%      75%      max\n",
       "target 397.0000 152.0101 76.9640 25.0000 86.0000 141.0000 209.0000 346.0000"
      ]
     },
     "metadata": {},
     "output_type": "display_data"
    },
    {
     "name": "stdout",
     "output_type": "stream",
     "text": [
      "X_test shape: (45, 10)\n",
      "x_test.shape: (45,)\n",
      "y_test shape: (45,)\n",
      "\n",
      "=========== Test data ==================\n"
     ]
    },
    {
     "data": {
      "text/html": [
       "<div>\n",
       "<style scoped>\n",
       "    .dataframe tbody tr th:only-of-type {\n",
       "        vertical-align: middle;\n",
       "    }\n",
       "\n",
       "    .dataframe tbody tr th {\n",
       "        vertical-align: top;\n",
       "    }\n",
       "\n",
       "    .dataframe thead th {\n",
       "        text-align: right;\n",
       "    }\n",
       "</style>\n",
       "<table border=\"1\" class=\"dataframe\">\n",
       "  <thead>\n",
       "    <tr style=\"text-align: right;\">\n",
       "      <th></th>\n",
       "      <th>count</th>\n",
       "      <th>mean</th>\n",
       "      <th>std</th>\n",
       "      <th>min</th>\n",
       "      <th>25%</th>\n",
       "      <th>50%</th>\n",
       "      <th>75%</th>\n",
       "      <th>max</th>\n",
       "    </tr>\n",
       "  </thead>\n",
       "  <tbody>\n",
       "    <tr>\n",
       "      <th>target</th>\n",
       "      <td>45.0000</td>\n",
       "      <td>153.2222</td>\n",
       "      <td>79.0943</td>\n",
       "      <td>42.0000</td>\n",
       "      <td>90.0000</td>\n",
       "      <td>129.0000</td>\n",
       "      <td>230.0000</td>\n",
       "      <td>310.0000</td>\n",
       "    </tr>\n",
       "  </tbody>\n",
       "</table>\n",
       "</div>"
      ],
      "text/plain": [
       "         count     mean     std     min     25%      50%      75%      max\n",
       "target 45.0000 153.2222 79.0943 42.0000 90.0000 129.0000 230.0000 310.0000"
      ]
     },
     "execution_count": 9,
     "metadata": {},
     "output_type": "execute_result"
    }
   ],
   "source": [
    "train, test = train_test_split(df, test_size=0.1, random_state=42)\n",
    "X_train, X_test, y_train, y_test = train_test_split(\n",
    "    df.drop(columns=\"target\"), df[\"target\"], test_size=0.1, random_state=42\n",
    ")\n",
    "\n",
    "x_train = X_train[\"bmi\"]\n",
    "x_test = X_test[\"bmi\"]\n",
    "\n",
    "print(f\"X_train shape: {X_train.shape}\")\n",
    "print(f\"x_train shape: {x_train.shape}\")\n",
    "print(f\"y_train shape: {y_train.shape}\")\n",
    "print(\"\\n==============Training data ============\")\n",
    "display(train[[\"target\"]].describe().T)\n",
    "\n",
    "print(f\"X_test shape: {X_test.shape}\")\n",
    "print(f\"x_test.shape: {x_test.shape}\")\n",
    "print(f\"y_test shape: {y_test.shape}\")\n",
    "\n",
    "print(\"\\n=========== Test data ==================\")\n",
    "test[[\"target\"]].describe().T"
   ]
  },
  {
   "cell_type": "markdown",
   "metadata": {},
   "source": [
    "The target ranges from 25 to 350 with mean of approximately 150 and median around 130–140."
   ]
  },
  {
   "cell_type": "markdown",
   "metadata": {},
   "source": [
    "📍 1. Prediction interval\n",
    "We will now look at three approaches to obtain prediction interval."
   ]
  },
  {
   "cell_type": "markdown",
   "metadata": {},
   "source": [
    "💡 1.1. Using standard errors\n",
    "Let’s build a simple linear regression using bmi to predict the target."
   ]
  },
  {
   "cell_type": "code",
   "execution_count": 21,
   "metadata": {},
   "outputs": [
    {
     "name": "stdout",
     "output_type": "stream",
     "text": [
      "Intercept: 152.10\n",
      "Slope: 955.63\n",
      "[146.1674 187.3669 148.2274 201.7867 132.7776]\n"
     ]
    }
   ],
   "source": [
    "model = LinearRegression()\n",
    "model.fit(x_train.values.reshape(-1, 1), y_train)\n",
    "print(f\"Intercept: {model.intercept_:.2f}\")\n",
    "print(f\"Slope: {model.coef_[0]:.2f}\")\n",
    "print(\n",
    "    model.predict(x_test.values.reshape(-1, 1))[:5]\n",
    ")  # predict the first 5 x test values"
   ]
  },
  {
   "cell_type": "markdown",
   "metadata": {},
   "source": [
    "We can see the predictions, our best guess. Using the formula below, we can calculate the standard error and obtain prediction intervals:\n",
    "\n",
    "\n",
    "Variables in green boxes are for the particular observation we are making predictions for while the rest are calculated from the training data.\n",
    "The formula can be translated into code as follows. We are using a custom object as it allows more flexibility than a function:"
   ]
  },
  {
   "cell_type": "code",
   "execution_count": 29,
   "metadata": {},
   "outputs": [
    {
     "data": {
      "text/plain": [
       "1.681070701847763"
      ]
     },
     "execution_count": 29,
     "metadata": {},
     "output_type": "execute_result"
    }
   ],
   "source": [
    "t.ppf(1 - 0.1/2, 43)"
   ]
  },
  {
   "cell_type": "code",
   "execution_count": 32,
   "metadata": {},
   "outputs": [
    {
     "name": "stdout",
     "output_type": "stream",
     "text": [
      "Intercept: 152.10\n",
      "Slope: 955.63\n"
     ]
    },
    {
     "data": {
      "text/html": [
       "<div>\n",
       "<style scoped>\n",
       "    .dataframe tbody tr th:only-of-type {\n",
       "        vertical-align: middle;\n",
       "    }\n",
       "\n",
       "    .dataframe tbody tr th {\n",
       "        vertical-align: top;\n",
       "    }\n",
       "\n",
       "    .dataframe thead th {\n",
       "        text-align: right;\n",
       "    }\n",
       "</style>\n",
       "<table border=\"1\" class=\"dataframe\">\n",
       "  <thead>\n",
       "    <tr style=\"text-align: right;\">\n",
       "      <th></th>\n",
       "      <th>x</th>\n",
       "      <th>y_pred</th>\n",
       "      <th>lower</th>\n",
       "      <th>upper</th>\n",
       "    </tr>\n",
       "  </thead>\n",
       "  <tbody>\n",
       "    <tr>\n",
       "      <th>287</th>\n",
       "      <td>-0.0062</td>\n",
       "      <td>146.1674</td>\n",
       "      <td>42.8550</td>\n",
       "      <td>249.4799</td>\n",
       "    </tr>\n",
       "    <tr>\n",
       "      <th>211</th>\n",
       "      <td>0.0369</td>\n",
       "      <td>187.3669</td>\n",
       "      <td>83.9760</td>\n",
       "      <td>290.7578</td>\n",
       "    </tr>\n",
       "    <tr>\n",
       "      <th>72</th>\n",
       "      <td>-0.0041</td>\n",
       "      <td>148.2274</td>\n",
       "      <td>44.9162</td>\n",
       "      <td>251.5386</td>\n",
       "    </tr>\n",
       "    <tr>\n",
       "      <th>321</th>\n",
       "      <td>0.0520</td>\n",
       "      <td>201.7867</td>\n",
       "      <td>98.3167</td>\n",
       "      <td>305.2567</td>\n",
       "    </tr>\n",
       "    <tr>\n",
       "      <th>73</th>\n",
       "      <td>-0.0202</td>\n",
       "      <td>132.7776</td>\n",
       "      <td>29.4435</td>\n",
       "      <td>236.1117</td>\n",
       "    </tr>\n",
       "  </tbody>\n",
       "</table>\n",
       "</div>"
      ],
      "text/plain": [
       "          x   y_pred   lower    upper\n",
       "287 -0.0062 146.1674 42.8550 249.4799\n",
       "211  0.0369 187.3669 83.9760 290.7578\n",
       "72  -0.0041 148.2274 44.9162 251.5386\n",
       "321  0.0520 201.7867 98.3167 305.2567\n",
       "73  -0.0202 132.7776 29.4435 236.1117"
      ]
     },
     "execution_count": 32,
     "metadata": {},
     "output_type": "execute_result"
    }
   ],
   "source": [
    "class CustomLinearRegression:\n",
    "    def __init__(self):\n",
    "        pass\n",
    "\n",
    "\n",
    "    ## my note - appears you can assign attributes to self outside of init   \n",
    "    # this looks like it only applies to simple linear regression\n",
    "    def fit(self, x, y):\n",
    "        # Calculate stats\n",
    "        self.n = len(x)\n",
    "        self.x_mean = np.mean(x)\n",
    "        self.y_mean = np.mean(y)\n",
    "        self.x_gap = (\n",
    "            x - self.x_mean\n",
    "        )  # delta between a point value for x and the mean for x\n",
    "        self.y_gap = y - self.y_mean\n",
    "        self.ss = np.square(self.x_gap).sum()\n",
    "\n",
    "        # Find coefficients\n",
    "        self.slope = np.dot(self.x_gap, self.y_gap) / self.ss\n",
    "        self.intercept = self.y_mean - self.slope * self.x_mean\n",
    "\n",
    "        # Find training error\n",
    "        y_pred = self.intercept + self.slope * x  # get predictions\n",
    "        self.se_regression = np.sqrt(\n",
    "            np.square(y - y_pred).sum() / (self.n - 2)\n",
    "        )  # standard error for regression\n",
    "\n",
    "    def predict(self, x):\n",
    "        y_pred = self.intercept + self.slope * x # notice this is same as above \n",
    "        return y_pred\n",
    "    \n",
    "    def predict_interval(self, x, alpha=0.1):\n",
    "        t_stat = t.ppf(1 - alpha/2, df=self.n - 2) # t is a Student's t continuous random variable, df=degrees freedom\n",
    "\n",
    "        # Calculate interval upper and lower boundaries\n",
    "        df = pd.DataFrame({'x': x})\n",
    "        for i, value in df['x'].items():\n",
    "            se = self.se_regression * np.sqrt(\n",
    "                1 + 1/self.n + np.square(value - self.x_mean)/self.ss\n",
    "            ) # from formula for prediction interval\n",
    "            df.loc[i, 'y_pred'] = self.intercept + self.slope * value\n",
    "            df.loc[i, 'lower'] = df.loc[i, 'y_pred'] - t_stat*se\n",
    "            df.loc[i, 'upper'] = df.loc[i, 'y_pred'] + t_stat*se\n",
    "        return df\n",
    "    \n",
    "custom_model = CustomLinearRegression()\n",
    "custom_model.fit(x_train, y_train)\n",
    "print(f'Intercept: {custom_model.intercept:.2f}')\n",
    "print(f'Slope: {custom_model.slope:.2f}')\n",
    "custom_pred = custom_model.predict_interval(x_test)\n",
    "custom_pred.head()"
   ]
  },
  {
   "cell_type": "code",
   "execution_count": 34,
   "metadata": {},
   "outputs": [
    {
     "data": {
      "text/plain": [
       "206.94809225846484"
      ]
     },
     "execution_count": 34,
     "metadata": {},
     "output_type": "execute_result"
    }
   ],
   "source": [
    "np.mean((custom_pred['upper'] - custom_pred['lower']))"
   ]
  },
  {
   "cell_type": "markdown",
   "metadata": {},
   "source": [
    "Let’s understand this output. In linear regression, predictions represent conditional mean target value. So y_pred, our prediction column, tells us the estimated mean target given the features. Prediction intervals tell us a range of values the target can take for a given record. We can see the lower and upper boundary of the prediction interval from lower and upper columns. This is a 90% prediction interval because we chose alpha=0.1. We will be using the same alpha value for the remainder of this post.\n",
    "\n",
    "If you are curious, here’re a few ways to interpret prediction intervals:\n",
    "\n",
    "* There is 90% probability that the actual target value for record 287 will be between 42.8550 and 249.4799.\n",
    "* We are 90% confident that the actual target value for for record 287 will fall somewhere between 42.8550 and 249.4799 based on their bmi value.\n",
    "* Approximately 90% of prediction intervals will contain the actual value.\n",
    "\n",
    "Let’s examine what percentage of target values in the test data were within the prediction intervals:"
   ]
  },
  {
   "cell_type": "markdown",
   "metadata": {},
   "source": []
  }
 ],
 "metadata": {
  "kernelspec": {
   "display_name": "pred_error",
   "language": "python",
   "name": "python3"
  },
  "language_info": {
   "codemirror_mode": {
    "name": "ipython",
    "version": 3
   },
   "file_extension": ".py",
   "mimetype": "text/x-python",
   "name": "python",
   "nbconvert_exporter": "python",
   "pygments_lexer": "ipython3",
   "version": "3.12.2"
  }
 },
 "nbformat": 4,
 "nbformat_minor": 2
}
